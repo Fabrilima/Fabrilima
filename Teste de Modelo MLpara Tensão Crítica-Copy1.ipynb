{
 "cells": [
  {
   "cell_type": "code",
   "execution_count": 1,
   "id": "royal-algebra",
   "metadata": {},
   "outputs": [],
   "source": [
    "import pandas as pd\n",
    "import numpy as np\n",
    "import matplotlib.pyplot as plt \n",
    "import seaborn as sns\n",
    "from sklearn.model_selection import train_test_split \n",
    "from sklearn.preprocessing import MinMaxScaler\n",
    "from sklearn.linear_model import LinearRegression\n",
    "from sklearn.metrics import mean_squared_error\n",
    "from sklearn.tree import DecisionTreeRegressor\n",
    "from sklearn.ensemble import RandomForestRegressor\n",
    "from sklearn.model_selection import GridSearchCV\n",
    "from sklearn.metrics import accuracy_score\n",
    "from sklearn.preprocessing import StandardScaler\n",
    "from sklearn.preprocessing import Normalizer\n",
    "from IPython.display import display, HTML\n",
    "%matplotlib inline\n",
    "import warnings\n",
    "warnings.filterwarnings('ignore')"
   ]
  },
  {
   "cell_type": "code",
   "execution_count": 9,
   "id": "aware-utility",
   "metadata": {},
   "outputs": [],
   "source": [
    "df = pd.read_csv('new_dados_isolador40.csv', sep=';', decimal =',')"
   ]
  },
  {
   "cell_type": "code",
   "execution_count": 10,
   "id": "alpine-authentication",
   "metadata": {},
   "outputs": [
    {
     "data": {
      "text/html": [
       "<div>\n",
       "<style scoped>\n",
       "    .dataframe tbody tr th:only-of-type {\n",
       "        vertical-align: middle;\n",
       "    }\n",
       "\n",
       "    .dataframe tbody tr th {\n",
       "        vertical-align: top;\n",
       "    }\n",
       "\n",
       "    .dataframe thead th {\n",
       "        text-align: right;\n",
       "    }\n",
       "</style>\n",
       "<table border=\"1\" class=\"dataframe\">\n",
       "  <thead>\n",
       "    <tr style=\"text-align: right;\">\n",
       "      <th></th>\n",
       "      <th>umidade</th>\n",
       "      <th>temperatura</th>\n",
       "      <th>pressao</th>\n",
       "      <th>vento_ang</th>\n",
       "      <th>vent_veloc</th>\n",
       "      <th>chuva</th>\n",
       "      <th>corrente_fuga</th>\n",
       "      <th>A</th>\n",
       "      <th>B</th>\n",
       "      <th>C</th>\n",
       "      <th>K</th>\n",
       "      <th>Uc</th>\n",
       "    </tr>\n",
       "  </thead>\n",
       "  <tbody>\n",
       "    <tr>\n",
       "      <th>0</th>\n",
       "      <td>70</td>\n",
       "      <td>29.6</td>\n",
       "      <td>1016</td>\n",
       "      <td>278</td>\n",
       "      <td>1.4</td>\n",
       "      <td>0</td>\n",
       "      <td>0.024992</td>\n",
       "      <td>0.086084</td>\n",
       "      <td>0.074070</td>\n",
       "      <td>5.799708</td>\n",
       "      <td>1.499261</td>\n",
       "      <td>24119.27040</td>\n",
       "    </tr>\n",
       "    <tr>\n",
       "      <th>1</th>\n",
       "      <td>69</td>\n",
       "      <td>29.7</td>\n",
       "      <td>1016</td>\n",
       "      <td>297</td>\n",
       "      <td>1.4</td>\n",
       "      <td>0</td>\n",
       "      <td>0.022767</td>\n",
       "      <td>0.086084</td>\n",
       "      <td>0.070696</td>\n",
       "      <td>5.846330</td>\n",
       "      <td>1.503274</td>\n",
       "      <td>25805.31545</td>\n",
       "    </tr>\n",
       "    <tr>\n",
       "      <th>2</th>\n",
       "      <td>70</td>\n",
       "      <td>29.8</td>\n",
       "      <td>1016</td>\n",
       "      <td>273</td>\n",
       "      <td>1.6</td>\n",
       "      <td>0</td>\n",
       "      <td>0.022607</td>\n",
       "      <td>0.086084</td>\n",
       "      <td>0.070447</td>\n",
       "      <td>5.849856</td>\n",
       "      <td>1.503577</td>\n",
       "      <td>25937.52914</td>\n",
       "    </tr>\n",
       "    <tr>\n",
       "      <th>3</th>\n",
       "      <td>68</td>\n",
       "      <td>29.8</td>\n",
       "      <td>1016</td>\n",
       "      <td>243</td>\n",
       "      <td>2.6</td>\n",
       "      <td>0</td>\n",
       "      <td>0.022426</td>\n",
       "      <td>0.086084</td>\n",
       "      <td>0.070164</td>\n",
       "      <td>5.853876</td>\n",
       "      <td>1.503923</td>\n",
       "      <td>26089.05394</td>\n",
       "    </tr>\n",
       "    <tr>\n",
       "      <th>4</th>\n",
       "      <td>68</td>\n",
       "      <td>29.7</td>\n",
       "      <td>1016</td>\n",
       "      <td>257</td>\n",
       "      <td>2.8</td>\n",
       "      <td>0</td>\n",
       "      <td>0.031797</td>\n",
       "      <td>0.086084</td>\n",
       "      <td>0.083548</td>\n",
       "      <td>5.679300</td>\n",
       "      <td>1.488895</td>\n",
       "      <td>20256.54987</td>\n",
       "    </tr>\n",
       "  </tbody>\n",
       "</table>\n",
       "</div>"
      ],
      "text/plain": [
       "   umidade  temperatura  pressao  vento_ang  vent_veloc  chuva  corrente_fuga  \\\n",
       "0       70         29.6     1016        278         1.4      0       0.024992   \n",
       "1       69         29.7     1016        297         1.4      0       0.022767   \n",
       "2       70         29.8     1016        273         1.6      0       0.022607   \n",
       "3       68         29.8     1016        243         2.6      0       0.022426   \n",
       "4       68         29.7     1016        257         2.8      0       0.031797   \n",
       "\n",
       "          A         B         C         K           Uc  \n",
       "0  0.086084  0.074070  5.799708  1.499261  24119.27040  \n",
       "1  0.086084  0.070696  5.846330  1.503274  25805.31545  \n",
       "2  0.086084  0.070447  5.849856  1.503577  25937.52914  \n",
       "3  0.086084  0.070164  5.853876  1.503923  26089.05394  \n",
       "4  0.086084  0.083548  5.679300  1.488895  20256.54987  "
      ]
     },
     "execution_count": 10,
     "metadata": {},
     "output_type": "execute_result"
    }
   ],
   "source": [
    "df.head(5)"
   ]
  },
  {
   "cell_type": "code",
   "execution_count": 11,
   "id": "built-bailey",
   "metadata": {},
   "outputs": [
    {
     "data": {
      "text/plain": [
       "(40316, 12)"
      ]
     },
     "execution_count": 11,
     "metadata": {},
     "output_type": "execute_result"
    }
   ],
   "source": [
    "df.shape"
   ]
  },
  {
   "cell_type": "code",
   "execution_count": 12,
   "id": "standard-torture",
   "metadata": {},
   "outputs": [
    {
     "data": {
      "text/plain": [
       "array(['umidade', 'temperatura', 'pressao', 'vento_ang', 'vent_veloc',\n",
       "       'chuva', 'corrente_fuga', 'A', 'B', 'C', 'K', 'Uc'], dtype=object)"
      ]
     },
     "metadata": {},
     "output_type": "display_data"
    }
   ],
   "source": [
    "display(df.columns.values)"
   ]
  },
  {
   "cell_type": "code",
   "execution_count": 13,
   "id": "neither-demand",
   "metadata": {},
   "outputs": [
    {
     "data": {
      "text/plain": [
       "umidade          False\n",
       "temperatura      False\n",
       "pressao          False\n",
       "vento_ang        False\n",
       "vent_veloc       False\n",
       "chuva            False\n",
       "corrente_fuga    False\n",
       "A                False\n",
       "B                False\n",
       "C                False\n",
       "K                False\n",
       "Uc               False\n",
       "dtype: bool"
      ]
     },
     "execution_count": 13,
     "metadata": {},
     "output_type": "execute_result"
    }
   ],
   "source": [
    "df.isnull().any()"
   ]
  },
  {
   "cell_type": "code",
   "execution_count": 14,
   "id": "union-contrary",
   "metadata": {},
   "outputs": [
    {
     "data": {
      "text/plain": [
       "umidade              0\n",
       "temperatura          0\n",
       "pressao              0\n",
       "vento_ang           92\n",
       "vent_veloc       14511\n",
       "chuva            38064\n",
       "corrente_fuga        0\n",
       "A                    0\n",
       "B                    0\n",
       "C                    0\n",
       "K                    0\n",
       "Uc                   0\n",
       "dtype: int64"
      ]
     },
     "execution_count": 14,
     "metadata": {},
     "output_type": "execute_result"
    }
   ],
   "source": [
    "(df == 0).sum()"
   ]
  },
  {
   "cell_type": "code",
   "execution_count": 15,
   "id": "signal-factory",
   "metadata": {},
   "outputs": [
    {
     "data": {
      "image/png": "[encoded data removed]",
      "text/plain": [
       "<Figure size 576x288 with 1 Axes>"
      ]
     },
     "metadata": {
      "needs_background": "light"
     },
     "output_type": "display_data"
    }
   ],
   "source": [
    "plt.figure(figsize=(8,4))\n",
    "plt.tight_layout()\n",
    "sns.distplot(df.Uc);"
   ]
  },
  {
   "cell_type": "code",
   "execution_count": 16,
   "id": "british-giving",
   "metadata": {},
   "outputs": [],
   "source": [
    "def distplots_dataframe(df_analisado):\n",
    "    fig, ax = plt.subplots(3, 3, figsize=(14,8))\n",
    "    fig.tight_layout(pad=3.0)\n",
    "    \n",
    "    sns.distplot(df_analisado.umidade, ax=ax[0,0])\n",
    "    sns.distplot(df_analisado.temperatura, ax=ax[0,1])\n",
    "    sns.distplot(df_analisado.pressao, ax=ax[0,2])\n",
    "    sns.distplot(df_analisado.vento_ang, ax=ax[1,0])\n",
    "    sns.distplot(df_analisado.vent_veloc, ax=ax[1,1])\n",
    "    sns.distplot(df_analisado.chuva, ax=ax[1,2])\n",
    "    sns.distplot(df_analisado.corrente_fuga, ax=ax[2,0])\n",
    "    sns.distplot(df_analisado.Uc, ax=ax[2,1])\n",
    "    \n",
    "    plt.show()"
   ]
  },
  {
   "cell_type": "code",
   "execution_count": 17,
   "id": "fleet-disclosure",
   "metadata": {},
   "outputs": [
    {
     "data": {
      "image/png": "[encoded data removed]",
      "text/plain": [
       "<Figure size 1008x576 with 9 Axes>"
      ]
     },
     "metadata": {
      "needs_background": "light"
     },
     "output_type": "display_data"
    }
   ],
   "source": [
    "distplots_dataframe(df)"
   ]
  },
  {
   "cell_type": "code",
   "execution_count": 19,
   "id": "close-charter",
   "metadata": {},
   "outputs": [],
   "source": [
    "min_scaler = MinMaxScaler(feature_range=(0,1))\n",
    "scaled_data = pd.DataFrame(min_scaler.fit_transform(df), columns=df.columns)"
   ]
  },
  {
   "cell_type": "code",
   "execution_count": 20,
   "id": "incorrect-length",
   "metadata": {},
   "outputs": [
    {
     "data": {
      "image/png": "[encoded data removed]",
      "text/plain": [
       "<Figure size 1008x576 with 9 Axes>"
      ]
     },
     "metadata": {
      "needs_background": "light"
     },
     "output_type": "display_data"
    }
   ],
   "source": [
    "distplots_dataframe(scaled_data)"
   ]
  },
  {
   "cell_type": "code",
   "execution_count": 21,
   "id": "advance-reach",
   "metadata": {},
   "outputs": [
    {
     "data": {
      "text/html": [
       "<div>\n",
       "<style scoped>\n",
       "    .dataframe tbody tr th:only-of-type {\n",
       "        vertical-align: middle;\n",
       "    }\n",
       "\n",
       "    .dataframe tbody tr th {\n",
       "        vertical-align: top;\n",
       "    }\n",
       "\n",
       "    .dataframe thead th {\n",
       "        text-align: right;\n",
       "    }\n",
       "</style>\n",
       "<table border=\"1\" class=\"dataframe\">\n",
       "  <thead>\n",
       "    <tr style=\"text-align: right;\">\n",
       "      <th></th>\n",
       "      <th>umidade</th>\n",
       "      <th>temperatura</th>\n",
       "      <th>pressao</th>\n",
       "      <th>vento_ang</th>\n",
       "      <th>vent_veloc</th>\n",
       "      <th>chuva</th>\n",
       "      <th>corrente_fuga</th>\n",
       "      <th>A</th>\n",
       "      <th>B</th>\n",
       "      <th>C</th>\n",
       "      <th>K</th>\n",
       "      <th>Uc</th>\n",
       "    </tr>\n",
       "  </thead>\n",
       "  <tbody>\n",
       "    <tr>\n",
       "      <th>count</th>\n",
       "      <td>40316.000000</td>\n",
       "      <td>40316.000000</td>\n",
       "      <td>40316.000000</td>\n",
       "      <td>40316.000000</td>\n",
       "      <td>40316.000000</td>\n",
       "      <td>40316.000000</td>\n",
       "      <td>40316.000000</td>\n",
       "      <td>40316.0</td>\n",
       "      <td>40316.000000</td>\n",
       "      <td>40316.000000</td>\n",
       "      <td>40316.000000</td>\n",
       "      <td>40316.000000</td>\n",
       "    </tr>\n",
       "    <tr>\n",
       "      <th>mean</th>\n",
       "      <td>0.726673</td>\n",
       "      <td>0.456358</td>\n",
       "      <td>0.495887</td>\n",
       "      <td>0.503842</td>\n",
       "      <td>0.120464</td>\n",
       "      <td>0.003483</td>\n",
       "      <td>0.167389</td>\n",
       "      <td>0.0</td>\n",
       "      <td>0.232764</td>\n",
       "      <td>0.689886</td>\n",
       "      <td>0.689886</td>\n",
       "      <td>0.565510</td>\n",
       "    </tr>\n",
       "    <tr>\n",
       "      <th>std</th>\n",
       "      <td>0.201368</td>\n",
       "      <td>0.166669</td>\n",
       "      <td>0.223528</td>\n",
       "      <td>0.278183</td>\n",
       "      <td>0.111802</td>\n",
       "      <td>0.027008</td>\n",
       "      <td>0.030226</td>\n",
       "      <td>0.0</td>\n",
       "      <td>0.036649</td>\n",
       "      <td>0.042686</td>\n",
       "      <td>0.042686</td>\n",
       "      <td>0.049263</td>\n",
       "    </tr>\n",
       "    <tr>\n",
       "      <th>min</th>\n",
       "      <td>0.000000</td>\n",
       "      <td>0.000000</td>\n",
       "      <td>0.000000</td>\n",
       "      <td>0.000000</td>\n",
       "      <td>0.000000</td>\n",
       "      <td>0.000000</td>\n",
       "      <td>0.000000</td>\n",
       "      <td>0.0</td>\n",
       "      <td>0.000000</td>\n",
       "      <td>0.000000</td>\n",
       "      <td>0.000000</td>\n",
       "      <td>0.000000</td>\n",
       "    </tr>\n",
       "    <tr>\n",
       "      <th>25%</th>\n",
       "      <td>0.578125</td>\n",
       "      <td>0.351064</td>\n",
       "      <td>0.312500</td>\n",
       "      <td>0.210084</td>\n",
       "      <td>0.000000</td>\n",
       "      <td>0.000000</td>\n",
       "      <td>0.152262</td>\n",
       "      <td>0.0</td>\n",
       "      <td>0.214385</td>\n",
       "      <td>0.671046</td>\n",
       "      <td>0.671046</td>\n",
       "      <td>0.542425</td>\n",
       "    </tr>\n",
       "    <tr>\n",
       "      <th>50%</th>\n",
       "      <td>0.796875</td>\n",
       "      <td>0.430851</td>\n",
       "      <td>0.437500</td>\n",
       "      <td>0.588235</td>\n",
       "      <td>0.117647</td>\n",
       "      <td>0.000000</td>\n",
       "      <td>0.167479</td>\n",
       "      <td>0.0</td>\n",
       "      <td>0.233494</td>\n",
       "      <td>0.688307</td>\n",
       "      <td>0.688307</td>\n",
       "      <td>0.562473</td>\n",
       "    </tr>\n",
       "    <tr>\n",
       "      <th>75%</th>\n",
       "      <td>0.890625</td>\n",
       "      <td>0.563830</td>\n",
       "      <td>0.687500</td>\n",
       "      <td>0.742297</td>\n",
       "      <td>0.201681</td>\n",
       "      <td>0.000000</td>\n",
       "      <td>0.179329</td>\n",
       "      <td>0.0</td>\n",
       "      <td>0.248145</td>\n",
       "      <td>0.711173</td>\n",
       "      <td>0.711173</td>\n",
       "      <td>0.589635</td>\n",
       "    </tr>\n",
       "    <tr>\n",
       "      <th>max</th>\n",
       "      <td>1.000000</td>\n",
       "      <td>1.000000</td>\n",
       "      <td>1.000000</td>\n",
       "      <td>1.000000</td>\n",
       "      <td>1.000000</td>\n",
       "      <td>1.000000</td>\n",
       "      <td>1.000000</td>\n",
       "      <td>0.0</td>\n",
       "      <td>1.000000</td>\n",
       "      <td>1.000000</td>\n",
       "      <td>1.000000</td>\n",
       "      <td>1.000000</td>\n",
       "    </tr>\n",
       "  </tbody>\n",
       "</table>\n",
       "</div>"
      ],
      "text/plain": [
       "            umidade   temperatura       pressao     vento_ang    vent_veloc  \\\n",
       "count  40316.000000  40316.000000  40316.000000  40316.000000  40316.000000   \n",
       "mean       0.726673      0.456358      0.495887      0.503842      0.120464   \n",
       "std        0.201368      0.166669      0.223528      0.278183      0.111802   \n",
       "min        0.000000      0.000000      0.000000      0.000000      0.000000   \n",
       "25%        0.578125      0.351064      0.312500      0.210084      0.000000   \n",
       "50%        0.796875      0.430851      0.437500      0.588235      0.117647   \n",
       "75%        0.890625      0.563830      0.687500      0.742297      0.201681   \n",
       "max        1.000000      1.000000      1.000000      1.000000      1.000000   \n",
       "\n",
       "              chuva  corrente_fuga        A             B             C  \\\n",
       "count  40316.000000   40316.000000  40316.0  40316.000000  40316.000000   \n",
       "mean       0.003483       0.167389      0.0      0.232764      0.689886   \n",
       "std        0.027008       0.030226      0.0      0.036649      0.042686   \n",
       "min        0.000000       0.000000      0.0      0.000000      0.000000   \n",
       "25%        0.000000       0.152262      0.0      0.214385      0.671046   \n",
       "50%        0.000000       0.167479      0.0      0.233494      0.688307   \n",
       "75%        0.000000       0.179329      0.0      0.248145      0.711173   \n",
       "max        1.000000       1.000000      0.0      1.000000      1.000000   \n",
       "\n",
       "                  K            Uc  \n",
       "count  40316.000000  40316.000000  \n",
       "mean       0.689886      0.565510  \n",
       "std        0.042686      0.049263  \n",
       "min        0.000000      0.000000  \n",
       "25%        0.671046      0.542425  \n",
       "50%        0.688307      0.562473  \n",
       "75%        0.711173      0.589635  \n",
       "max        1.000000      1.000000  "
      ]
     },
     "execution_count": 21,
     "metadata": {},
     "output_type": "execute_result"
    }
   ],
   "source": [
    "df = scaled_data\n",
    "df.describe()"
   ]
  },
  {
   "cell_type": "code",
   "execution_count": 22,
   "id": "covered-genesis",
   "metadata": {},
   "outputs": [],
   "source": [
    "def boxplots_dataframe(df_analisado):\n",
    "    fig, ax = plt.subplots(2, 3, figsize=(14,8))\n",
    "    fig.tight_layout(pad=3.0)\n",
    "    \n",
    "    ax[0,0].boxplot(df_analisado.umidade)\n",
    "    ax[0,1].boxplot(df_analisado.temperatura)\n",
    "    ax[0,2].boxplot(df_analisado.pressao)\n",
    "    ax[1,0].boxplot(df_analisado.vento_ang)\n",
    "    ax[1,1].boxplot(df_analisado.vent_veloc)\n",
    "    ax[1,2].boxplot(df_analisado.chuva)\n",
    "\n",
    "    ax[0,0].set_title('Umidade')\n",
    "    ax[0,1].set_title('Temperatura')\n",
    "    ax[0,2].set_title('Pressão')\n",
    "    ax[1,0].set_title('Ângulo do vento')\n",
    "    ax[1,1].set_title('Velocidade do vento')\n",
    "    ax[1,2].set_title('Chuva (mm)')\n",
    "\n",
    "    plt.show()"
   ]
  },
  {
   "cell_type": "code",
   "execution_count": 23,
   "id": "appointed-integer",
   "metadata": {},
   "outputs": [
    {
     "data": {
      "image/png": "[encoded data removed]",
      "text/plain": [
       "<Figure size 1008x576 with 6 Axes>"
      ]
     },
     "metadata": {
      "needs_background": "light"
     },
     "output_type": "display_data"
    }
   ],
   "source": [
    "boxplots_dataframe(df)"
   ]
  },
  {
   "cell_type": "code",
   "execution_count": 24,
   "id": "prepared-native",
   "metadata": {},
   "outputs": [
    {
     "data": {
      "text/html": [
       "<style  type=\"text/css\" >\n",
       "#T_a06b4_row0_col0,#T_a06b4_row1_col1,#T_a06b4_row2_col2,#T_a06b4_row3_col3,#T_a06b4_row4_col4,#T_a06b4_row5_col5,#T_a06b4_row6_col6,#T_a06b4_row6_col8,#T_a06b4_row8_col6,#T_a06b4_row8_col8,#T_a06b4_row9_col9,#T_a06b4_row9_col10,#T_a06b4_row9_col11,#T_a06b4_row10_col9,#T_a06b4_row10_col10,#T_a06b4_row10_col11,#T_a06b4_row11_col9,#T_a06b4_row11_col10,#T_a06b4_row11_col11{\n",
       "            background-color:  #b40426;\n",
       "            color:  #f1f1f1;\n",
       "        }#T_a06b4_row0_col1{\n",
       "            background-color:  #7597f6;\n",
       "            color:  #000000;\n",
       "        }#T_a06b4_row0_col2,#T_a06b4_row2_col5,#T_a06b4_row8_col1{\n",
       "            background-color:  #a5c3fe;\n",
       "            color:  #000000;\n",
       "        }#T_a06b4_row0_col3,#T_a06b4_row8_col3{\n",
       "            background-color:  #f3c7b1;\n",
       "            color:  #000000;\n",
       "        }#T_a06b4_row0_col4{\n",
       "            background-color:  #688aef;\n",
       "            color:  #000000;\n",
       "        }#T_a06b4_row0_col5{\n",
       "            background-color:  #dcdddd;\n",
       "            color:  #000000;\n",
       "        }#T_a06b4_row0_col6{\n",
       "            background-color:  #e9785d;\n",
       "            color:  #000000;\n",
       "        }#T_a06b4_row0_col7,#T_a06b4_row1_col7,#T_a06b4_row2_col7,#T_a06b4_row3_col7,#T_a06b4_row4_col7,#T_a06b4_row5_col7,#T_a06b4_row6_col7,#T_a06b4_row7_col0,#T_a06b4_row7_col1,#T_a06b4_row7_col2,#T_a06b4_row7_col3,#T_a06b4_row7_col4,#T_a06b4_row7_col5,#T_a06b4_row7_col6,#T_a06b4_row7_col7,#T_a06b4_row7_col8,#T_a06b4_row7_col9,#T_a06b4_row7_col10,#T_a06b4_row7_col11,#T_a06b4_row8_col7,#T_a06b4_row9_col7,#T_a06b4_row10_col7,#T_a06b4_row11_col7{\n",
       "            background-color:  #000000;\n",
       "            color:  #f1f1f1;\n",
       "        }#T_a06b4_row0_col8{\n",
       "            background-color:  #e57058;\n",
       "            color:  #000000;\n",
       "        }#T_a06b4_row0_col9,#T_a06b4_row0_col10{\n",
       "            background-color:  #3e51c5;\n",
       "            color:  #f1f1f1;\n",
       "        }#T_a06b4_row0_col11,#T_a06b4_row1_col0,#T_a06b4_row1_col3,#T_a06b4_row2_col1,#T_a06b4_row3_col1,#T_a06b4_row4_col0,#T_a06b4_row5_col9,#T_a06b4_row5_col10,#T_a06b4_row6_col9,#T_a06b4_row6_col10,#T_a06b4_row8_col9,#T_a06b4_row8_col10,#T_a06b4_row8_col11,#T_a06b4_row9_col6,#T_a06b4_row9_col8,#T_a06b4_row10_col6,#T_a06b4_row10_col8,#T_a06b4_row11_col8{\n",
       "            background-color:  #3b4cc0;\n",
       "            color:  #f1f1f1;\n",
       "        }#T_a06b4_row1_col2{\n",
       "            background-color:  #4358cb;\n",
       "            color:  #f1f1f1;\n",
       "        }#T_a06b4_row1_col4{\n",
       "            background-color:  #f4c5ad;\n",
       "            color:  #000000;\n",
       "        }#T_a06b4_row1_col5{\n",
       "            background-color:  #85a8fc;\n",
       "            color:  #000000;\n",
       "        }#T_a06b4_row1_col6{\n",
       "            background-color:  #4e68d8;\n",
       "            color:  #000000;\n",
       "        }#T_a06b4_row1_col8{\n",
       "            background-color:  #4b64d5;\n",
       "            color:  #f1f1f1;\n",
       "        }#T_a06b4_row1_col9,#T_a06b4_row1_col10{\n",
       "            background-color:  #ebd3c6;\n",
       "            color:  #000000;\n",
       "        }#T_a06b4_row1_col11{\n",
       "            background-color:  #edd2c3;\n",
       "            color:  #000000;\n",
       "        }#T_a06b4_row2_col0,#T_a06b4_row5_col1{\n",
       "            background-color:  #6687ed;\n",
       "            color:  #000000;\n",
       "        }#T_a06b4_row2_col3{\n",
       "            background-color:  #96b7ff;\n",
       "            color:  #000000;\n",
       "        }#T_a06b4_row2_col4{\n",
       "            background-color:  #8db0fe;\n",
       "            color:  #000000;\n",
       "        }#T_a06b4_row2_col6{\n",
       "            background-color:  #89acfd;\n",
       "            color:  #000000;\n",
       "        }#T_a06b4_row2_col8{\n",
       "            background-color:  #88abfd;\n",
       "            color:  #000000;\n",
       "        }#T_a06b4_row2_col9,#T_a06b4_row2_col10{\n",
       "            background-color:  #abc8fd;\n",
       "            color:  #000000;\n",
       "        }#T_a06b4_row2_col11,#T_a06b4_row8_col4{\n",
       "            background-color:  #adc9fd;\n",
       "            color:  #000000;\n",
       "        }#T_a06b4_row3_col0{\n",
       "            background-color:  #e4d9d2;\n",
       "            color:  #000000;\n",
       "        }#T_a06b4_row3_col2{\n",
       "            background-color:  #9ebeff;\n",
       "            color:  #000000;\n",
       "        }#T_a06b4_row3_col4{\n",
       "            background-color:  #4f69d9;\n",
       "            color:  #000000;\n",
       "        }#T_a06b4_row3_col5,#T_a06b4_row4_col5{\n",
       "            background-color:  #aac7fd;\n",
       "            color:  #000000;\n",
       "        }#T_a06b4_row3_col6{\n",
       "            background-color:  #d3dbe7;\n",
       "            color:  #000000;\n",
       "        }#T_a06b4_row3_col8,#T_a06b4_row6_col2,#T_a06b4_row8_col2{\n",
       "            background-color:  #d4dbe6;\n",
       "            color:  #000000;\n",
       "        }#T_a06b4_row3_col9,#T_a06b4_row3_col10,#T_a06b4_row3_col11{\n",
       "            background-color:  #6788ee;\n",
       "            color:  #000000;\n",
       "        }#T_a06b4_row4_col1{\n",
       "            background-color:  #f5c0a7;\n",
       "            color:  #000000;\n",
       "        }#T_a06b4_row4_col2{\n",
       "            background-color:  #9fbfff;\n",
       "            color:  #000000;\n",
       "        }#T_a06b4_row4_col3{\n",
       "            background-color:  #5b7ae5;\n",
       "            color:  #000000;\n",
       "        }#T_a06b4_row4_col6,#T_a06b4_row9_col0,#T_a06b4_row10_col0{\n",
       "            background-color:  #6384eb;\n",
       "            color:  #000000;\n",
       "        }#T_a06b4_row4_col8{\n",
       "            background-color:  #6180e9;\n",
       "            color:  #000000;\n",
       "        }#T_a06b4_row4_col9,#T_a06b4_row4_col10{\n",
       "            background-color:  #ead5c9;\n",
       "            color:  #000000;\n",
       "        }#T_a06b4_row4_col11{\n",
       "            background-color:  #ead4c8;\n",
       "            color:  #000000;\n",
       "        }#T_a06b4_row5_col0{\n",
       "            background-color:  #a2c1ff;\n",
       "            color:  #000000;\n",
       "        }#T_a06b4_row5_col2,#T_a06b4_row5_col3{\n",
       "            background-color:  #8fb1fe;\n",
       "            color:  #000000;\n",
       "        }#T_a06b4_row5_col4{\n",
       "            background-color:  #82a6fb;\n",
       "            color:  #000000;\n",
       "        }#T_a06b4_row5_col6{\n",
       "            background-color:  #d1dae9;\n",
       "            color:  #000000;\n",
       "        }#T_a06b4_row5_col8{\n",
       "            background-color:  #cfdaea;\n",
       "            color:  #000000;\n",
       "        }#T_a06b4_row5_col11{\n",
       "            background-color:  #3d50c3;\n",
       "            color:  #f1f1f1;\n",
       "        }#T_a06b4_row6_col0{\n",
       "            background-color:  #e36c55;\n",
       "            color:  #000000;\n",
       "        }#T_a06b4_row6_col1{\n",
       "            background-color:  #a6c4fe;\n",
       "            color:  #000000;\n",
       "        }#T_a06b4_row6_col3{\n",
       "            background-color:  #f3c8b2;\n",
       "            color:  #000000;\n",
       "        }#T_a06b4_row6_col4{\n",
       "            background-color:  #aec9fc;\n",
       "            color:  #000000;\n",
       "        }#T_a06b4_row6_col5,#T_a06b4_row8_col5{\n",
       "            background-color:  #f6bea4;\n",
       "            color:  #000000;\n",
       "        }#T_a06b4_row6_col11,#T_a06b4_row11_col6{\n",
       "            background-color:  #3c4ec2;\n",
       "            color:  #f1f1f1;\n",
       "        }#T_a06b4_row8_col0{\n",
       "            background-color:  #e16751;\n",
       "            color:  #000000;\n",
       "        }#T_a06b4_row9_col1,#T_a06b4_row10_col1{\n",
       "            background-color:  #f7b396;\n",
       "            color:  #000000;\n",
       "        }#T_a06b4_row9_col2,#T_a06b4_row10_col2,#T_a06b4_row11_col2{\n",
       "            background-color:  #e6d7cf;\n",
       "            color:  #000000;\n",
       "        }#T_a06b4_row9_col3,#T_a06b4_row10_col3,#T_a06b4_row11_col3{\n",
       "            background-color:  #bad0f8;\n",
       "            color:  #000000;\n",
       "        }#T_a06b4_row9_col4,#T_a06b4_row10_col4{\n",
       "            background-color:  #f7b99e;\n",
       "            color:  #000000;\n",
       "        }#T_a06b4_row9_col5,#T_a06b4_row10_col5{\n",
       "            background-color:  #b2ccfb;\n",
       "            color:  #000000;\n",
       "        }#T_a06b4_row11_col0{\n",
       "            background-color:  #5e7de7;\n",
       "            color:  #000000;\n",
       "        }#T_a06b4_row11_col1{\n",
       "            background-color:  #f7b194;\n",
       "            color:  #000000;\n",
       "        }#T_a06b4_row11_col4{\n",
       "            background-color:  #f7b89c;\n",
       "            color:  #000000;\n",
       "        }#T_a06b4_row11_col5{\n",
       "            background-color:  #b3cdfb;\n",
       "            color:  #000000;\n",
       "        }</style><table id=\"T_a06b4_\" ><thead>    <tr>        <th class=\"blank level0\" ></th>        <th class=\"col_heading level0 col0\" >umidade</th>        <th class=\"col_heading level0 col1\" >temperatura</th>        <th class=\"col_heading level0 col2\" >pressao</th>        <th class=\"col_heading level0 col3\" >vento_ang</th>        <th class=\"col_heading level0 col4\" >vent_veloc</th>        <th class=\"col_heading level0 col5\" >chuva</th>        <th class=\"col_heading level0 col6\" >corrente_fuga</th>        <th class=\"col_heading level0 col7\" >A</th>        <th class=\"col_heading level0 col8\" >B</th>        <th class=\"col_heading level0 col9\" >C</th>        <th class=\"col_heading level0 col10\" >K</th>        <th class=\"col_heading level0 col11\" >Uc</th>    </tr></thead><tbody>\n",
       "                <tr>\n",
       "                        <th id=\"T_a06b4_level0_row0\" class=\"row_heading level0 row0\" >umidade</th>\n",
       "                        <td id=\"T_a06b4_row0_col0\" class=\"data row0 col0\" >1.0</td>\n",
       "                        <td id=\"T_a06b4_row0_col1\" class=\"data row0 col1\" >-0.44157</td>\n",
       "                        <td id=\"T_a06b4_row0_col2\" class=\"data row0 col2\" >-0.20368</td>\n",
       "                        <td id=\"T_a06b4_row0_col3\" class=\"data row0 col3\" >0.32259</td>\n",
       "                        <td id=\"T_a06b4_row0_col4\" class=\"data row0 col4\" >-0.50396</td>\n",
       "                        <td id=\"T_a06b4_row0_col5\" class=\"data row0 col5\" >0.11214</td>\n",
       "                        <td id=\"T_a06b4_row0_col6\" class=\"data row0 col6\" >0.69658</td>\n",
       "                        <td id=\"T_a06b4_row0_col7\" class=\"data row0 col7\" >nan</td>\n",
       "                        <td id=\"T_a06b4_row0_col8\" class=\"data row0 col8\" >0.72056</td>\n",
       "                        <td id=\"T_a06b4_row0_col9\" class=\"data row0 col9\" >-0.74008</td>\n",
       "                        <td id=\"T_a06b4_row0_col10\" class=\"data row0 col10\" >-0.74008</td>\n",
       "                        <td id=\"T_a06b4_row0_col11\" class=\"data row0 col11\" >-0.76278</td>\n",
       "            </tr>\n",
       "            <tr>\n",
       "                        <th id=\"T_a06b4_level0_row1\" class=\"row_heading level0 row1\" >temperatura</th>\n",
       "                        <td id=\"T_a06b4_row1_col0\" class=\"data row1 col0\" >-0.44157</td>\n",
       "                        <td id=\"T_a06b4_row1_col1\" class=\"data row1 col1\" >1.0</td>\n",
       "                        <td id=\"T_a06b4_row1_col2\" class=\"data row1 col2\" >-0.39874</td>\n",
       "                        <td id=\"T_a06b4_row1_col3\" class=\"data row1 col3\" >-0.43925</td>\n",
       "                        <td id=\"T_a06b4_row1_col4\" class=\"data row1 col4\" >0.45762</td>\n",
       "                        <td id=\"T_a06b4_row1_col5\" class=\"data row1 col5\" >-0.11037</td>\n",
       "                        <td id=\"T_a06b4_row1_col6\" class=\"data row1 col6\" >-0.34919</td>\n",
       "                        <td id=\"T_a06b4_row1_col7\" class=\"data row1 col7\" >nan</td>\n",
       "                        <td id=\"T_a06b4_row1_col8\" class=\"data row1 col8\" >-0.35956</td>\n",
       "                        <td id=\"T_a06b4_row1_col9\" class=\"data row1 col9\" >0.36748</td>\n",
       "                        <td id=\"T_a06b4_row1_col10\" class=\"data row1 col10\" >0.36748</td>\n",
       "                        <td id=\"T_a06b4_row1_col11\" class=\"data row1 col11\" >0.3759</td>\n",
       "            </tr>\n",
       "            <tr>\n",
       "                        <th id=\"T_a06b4_level0_row2\" class=\"row_heading level0 row2\" >pressao</th>\n",
       "                        <td id=\"T_a06b4_row2_col0\" class=\"data row2 col0\" >-0.20368</td>\n",
       "                        <td id=\"T_a06b4_row2_col1\" class=\"data row2 col1\" >-0.39874</td>\n",
       "                        <td id=\"T_a06b4_row2_col2\" class=\"data row2 col2\" >1.0</td>\n",
       "                        <td id=\"T_a06b4_row2_col3\" class=\"data row2 col3\" >-0.011539</td>\n",
       "                        <td id=\"T_a06b4_row2_col4\" class=\"data row2 col4\" >-0.045943</td>\n",
       "                        <td id=\"T_a06b4_row2_col5\" class=\"data row2 col5\" >0.044076</td>\n",
       "                        <td id=\"T_a06b4_row2_col6\" class=\"data row2 col6\" >-0.064254</td>\n",
       "                        <td id=\"T_a06b4_row2_col7\" class=\"data row2 col7\" >nan</td>\n",
       "                        <td id=\"T_a06b4_row2_col8\" class=\"data row2 col8\" >-0.068527</td>\n",
       "                        <td id=\"T_a06b4_row2_col9\" class=\"data row2 col9\" >0.072534</td>\n",
       "                        <td id=\"T_a06b4_row2_col10\" class=\"data row2 col10\" >0.072534</td>\n",
       "                        <td id=\"T_a06b4_row2_col11\" class=\"data row2 col11\" >0.077962</td>\n",
       "            </tr>\n",
       "            <tr>\n",
       "                        <th id=\"T_a06b4_level0_row3\" class=\"row_heading level0 row3\" >vento_ang</th>\n",
       "                        <td id=\"T_a06b4_row3_col0\" class=\"data row3 col0\" >0.32259</td>\n",
       "                        <td id=\"T_a06b4_row3_col1\" class=\"data row3 col1\" >-0.43925</td>\n",
       "                        <td id=\"T_a06b4_row3_col2\" class=\"data row3 col2\" >-0.011539</td>\n",
       "                        <td id=\"T_a06b4_row3_col3\" class=\"data row3 col3\" >1.0</td>\n",
       "                        <td id=\"T_a06b4_row3_col4\" class=\"data row3 col4\" >-0.34307</td>\n",
       "                        <td id=\"T_a06b4_row3_col5\" class=\"data row3 col5\" >0.0424</td>\n",
       "                        <td id=\"T_a06b4_row3_col6\" class=\"data row3 col6\" >0.22667</td>\n",
       "                        <td id=\"T_a06b4_row3_col7\" class=\"data row3 col7\" >nan</td>\n",
       "                        <td id=\"T_a06b4_row3_col8\" class=\"data row3 col8\" >0.23102</td>\n",
       "                        <td id=\"T_a06b4_row3_col9\" class=\"data row3 col9\" >-0.23374</td>\n",
       "                        <td id=\"T_a06b4_row3_col10\" class=\"data row3 col10\" >-0.23374</td>\n",
       "                        <td id=\"T_a06b4_row3_col11\" class=\"data row3 col11\" >-0.23568</td>\n",
       "            </tr>\n",
       "            <tr>\n",
       "                        <th id=\"T_a06b4_level0_row4\" class=\"row_heading level0 row4\" >vent_veloc</th>\n",
       "                        <td id=\"T_a06b4_row4_col0\" class=\"data row4 col0\" >-0.50396</td>\n",
       "                        <td id=\"T_a06b4_row4_col1\" class=\"data row4 col1\" >0.45762</td>\n",
       "                        <td id=\"T_a06b4_row4_col2\" class=\"data row4 col2\" >-0.045943</td>\n",
       "                        <td id=\"T_a06b4_row4_col3\" class=\"data row4 col3\" >-0.34307</td>\n",
       "                        <td id=\"T_a06b4_row4_col4\" class=\"data row4 col4\" >1.0</td>\n",
       "                        <td id=\"T_a06b4_row4_col5\" class=\"data row4 col5\" >-0.0043842</td>\n",
       "                        <td id=\"T_a06b4_row4_col6\" class=\"data row4 col6\" >-0.3078</td>\n",
       "                        <td id=\"T_a06b4_row4_col7\" class=\"data row4 col7\" >nan</td>\n",
       "                        <td id=\"T_a06b4_row4_col8\" class=\"data row4 col8\" >-0.31741</td>\n",
       "                        <td id=\"T_a06b4_row4_col9\" class=\"data row4 col9\" >0.32493</td>\n",
       "                        <td id=\"T_a06b4_row4_col10\" class=\"data row4 col10\" >0.32493</td>\n",
       "                        <td id=\"T_a06b4_row4_col11\" class=\"data row4 col11\" >0.33315</td>\n",
       "            </tr>\n",
       "            <tr>\n",
       "                        <th id=\"T_a06b4_level0_row5\" class=\"row_heading level0 row5\" >chuva</th>\n",
       "                        <td id=\"T_a06b4_row5_col0\" class=\"data row5 col0\" >0.11214</td>\n",
       "                        <td id=\"T_a06b4_row5_col1\" class=\"data row5 col1\" >-0.11037</td>\n",
       "                        <td id=\"T_a06b4_row5_col2\" class=\"data row5 col2\" >0.044076</td>\n",
       "                        <td id=\"T_a06b4_row5_col3\" class=\"data row5 col3\" >0.0424</td>\n",
       "                        <td id=\"T_a06b4_row5_col4\" class=\"data row5 col4\" >-0.0043842</td>\n",
       "                        <td id=\"T_a06b4_row5_col5\" class=\"data row5 col5\" >1.0</td>\n",
       "                        <td id=\"T_a06b4_row5_col6\" class=\"data row5 col6\" >0.29679</td>\n",
       "                        <td id=\"T_a06b4_row5_col7\" class=\"data row5 col7\" >nan</td>\n",
       "                        <td id=\"T_a06b4_row5_col8\" class=\"data row5 col8\" >0.29242</td>\n",
       "                        <td id=\"T_a06b4_row5_col9\" class=\"data row5 col9\" >-0.28624</td>\n",
       "                        <td id=\"T_a06b4_row5_col10\" class=\"data row5 col10\" >-0.28624</td>\n",
       "                        <td id=\"T_a06b4_row5_col11\" class=\"data row5 col11\" >-0.27544</td>\n",
       "            </tr>\n",
       "            <tr>\n",
       "                        <th id=\"T_a06b4_level0_row6\" class=\"row_heading level0 row6\" >corrente_fuga</th>\n",
       "                        <td id=\"T_a06b4_row6_col0\" class=\"data row6 col0\" >0.69658</td>\n",
       "                        <td id=\"T_a06b4_row6_col1\" class=\"data row6 col1\" >-0.34919</td>\n",
       "                        <td id=\"T_a06b4_row6_col2\" class=\"data row6 col2\" >-0.064254</td>\n",
       "                        <td id=\"T_a06b4_row6_col3\" class=\"data row6 col3\" >0.22667</td>\n",
       "                        <td id=\"T_a06b4_row6_col4\" class=\"data row6 col4\" >-0.3078</td>\n",
       "                        <td id=\"T_a06b4_row6_col5\" class=\"data row6 col5\" >0.29679</td>\n",
       "                        <td id=\"T_a06b4_row6_col6\" class=\"data row6 col6\" >1.0</td>\n",
       "                        <td id=\"T_a06b4_row6_col7\" class=\"data row6 col7\" >nan</td>\n",
       "                        <td id=\"T_a06b4_row6_col8\" class=\"data row6 col8\" >0.99804</td>\n",
       "                        <td id=\"T_a06b4_row6_col9\" class=\"data row6 col9\" >-0.99345</td>\n",
       "                        <td id=\"T_a06b4_row6_col10\" class=\"data row6 col10\" >-0.99345</td>\n",
       "                        <td id=\"T_a06b4_row6_col11\" class=\"data row6 col11\" >-0.98433</td>\n",
       "            </tr>\n",
       "            <tr>\n",
       "                        <th id=\"T_a06b4_level0_row7\" class=\"row_heading level0 row7\" >A</th>\n",
       "                        <td id=\"T_a06b4_row7_col0\" class=\"data row7 col0\" >nan</td>\n",
       "                        <td id=\"T_a06b4_row7_col1\" class=\"data row7 col1\" >nan</td>\n",
       "                        <td id=\"T_a06b4_row7_col2\" class=\"data row7 col2\" >nan</td>\n",
       "                        <td id=\"T_a06b4_row7_col3\" class=\"data row7 col3\" >nan</td>\n",
       "                        <td id=\"T_a06b4_row7_col4\" class=\"data row7 col4\" >nan</td>\n",
       "                        <td id=\"T_a06b4_row7_col5\" class=\"data row7 col5\" >nan</td>\n",
       "                        <td id=\"T_a06b4_row7_col6\" class=\"data row7 col6\" >nan</td>\n",
       "                        <td id=\"T_a06b4_row7_col7\" class=\"data row7 col7\" >nan</td>\n",
       "                        <td id=\"T_a06b4_row7_col8\" class=\"data row7 col8\" >nan</td>\n",
       "                        <td id=\"T_a06b4_row7_col9\" class=\"data row7 col9\" >nan</td>\n",
       "                        <td id=\"T_a06b4_row7_col10\" class=\"data row7 col10\" >nan</td>\n",
       "                        <td id=\"T_a06b4_row7_col11\" class=\"data row7 col11\" >nan</td>\n",
       "            </tr>\n",
       "            <tr>\n",
       "                        <th id=\"T_a06b4_level0_row8\" class=\"row_heading level0 row8\" >B</th>\n",
       "                        <td id=\"T_a06b4_row8_col0\" class=\"data row8 col0\" >0.72056</td>\n",
       "                        <td id=\"T_a06b4_row8_col1\" class=\"data row8 col1\" >-0.35956</td>\n",
       "                        <td id=\"T_a06b4_row8_col2\" class=\"data row8 col2\" >-0.068527</td>\n",
       "                        <td id=\"T_a06b4_row8_col3\" class=\"data row8 col3\" >0.23102</td>\n",
       "                        <td id=\"T_a06b4_row8_col4\" class=\"data row8 col4\" >-0.31741</td>\n",
       "                        <td id=\"T_a06b4_row8_col5\" class=\"data row8 col5\" >0.29242</td>\n",
       "                        <td id=\"T_a06b4_row8_col6\" class=\"data row8 col6\" >0.99804</td>\n",
       "                        <td id=\"T_a06b4_row8_col7\" class=\"data row8 col7\" >nan</td>\n",
       "                        <td id=\"T_a06b4_row8_col8\" class=\"data row8 col8\" >1.0</td>\n",
       "                        <td id=\"T_a06b4_row8_col9\" class=\"data row8 col9\" >-0.99863</td>\n",
       "                        <td id=\"T_a06b4_row8_col10\" class=\"data row8 col10\" >-0.99863</td>\n",
       "                        <td id=\"T_a06b4_row8_col11\" class=\"data row8 col11\" >-0.99328</td>\n",
       "            </tr>\n",
       "            <tr>\n",
       "                        <th id=\"T_a06b4_level0_row9\" class=\"row_heading level0 row9\" >C</th>\n",
       "                        <td id=\"T_a06b4_row9_col0\" class=\"data row9 col0\" >-0.74008</td>\n",
       "                        <td id=\"T_a06b4_row9_col1\" class=\"data row9 col1\" >0.36748</td>\n",
       "                        <td id=\"T_a06b4_row9_col2\" class=\"data row9 col2\" >0.072534</td>\n",
       "                        <td id=\"T_a06b4_row9_col3\" class=\"data row9 col3\" >-0.23374</td>\n",
       "                        <td id=\"T_a06b4_row9_col4\" class=\"data row9 col4\" >0.32493</td>\n",
       "                        <td id=\"T_a06b4_row9_col5\" class=\"data row9 col5\" >-0.28624</td>\n",
       "                        <td id=\"T_a06b4_row9_col6\" class=\"data row9 col6\" >-0.99345</td>\n",
       "                        <td id=\"T_a06b4_row9_col7\" class=\"data row9 col7\" >nan</td>\n",
       "                        <td id=\"T_a06b4_row9_col8\" class=\"data row9 col8\" >-0.99863</td>\n",
       "                        <td id=\"T_a06b4_row9_col9\" class=\"data row9 col9\" >1.0</td>\n",
       "                        <td id=\"T_a06b4_row9_col10\" class=\"data row9 col10\" >1.0</td>\n",
       "                        <td id=\"T_a06b4_row9_col11\" class=\"data row9 col11\" >0.99794</td>\n",
       "            </tr>\n",
       "            <tr>\n",
       "                        <th id=\"T_a06b4_level0_row10\" class=\"row_heading level0 row10\" >K</th>\n",
       "                        <td id=\"T_a06b4_row10_col0\" class=\"data row10 col0\" >-0.74008</td>\n",
       "                        <td id=\"T_a06b4_row10_col1\" class=\"data row10 col1\" >0.36748</td>\n",
       "                        <td id=\"T_a06b4_row10_col2\" class=\"data row10 col2\" >0.072534</td>\n",
       "                        <td id=\"T_a06b4_row10_col3\" class=\"data row10 col3\" >-0.23374</td>\n",
       "                        <td id=\"T_a06b4_row10_col4\" class=\"data row10 col4\" >0.32493</td>\n",
       "                        <td id=\"T_a06b4_row10_col5\" class=\"data row10 col5\" >-0.28624</td>\n",
       "                        <td id=\"T_a06b4_row10_col6\" class=\"data row10 col6\" >-0.99345</td>\n",
       "                        <td id=\"T_a06b4_row10_col7\" class=\"data row10 col7\" >nan</td>\n",
       "                        <td id=\"T_a06b4_row10_col8\" class=\"data row10 col8\" >-0.99863</td>\n",
       "                        <td id=\"T_a06b4_row10_col9\" class=\"data row10 col9\" >1.0</td>\n",
       "                        <td id=\"T_a06b4_row10_col10\" class=\"data row10 col10\" >1.0</td>\n",
       "                        <td id=\"T_a06b4_row10_col11\" class=\"data row10 col11\" >0.99794</td>\n",
       "            </tr>\n",
       "            <tr>\n",
       "                        <th id=\"T_a06b4_level0_row11\" class=\"row_heading level0 row11\" >Uc</th>\n",
       "                        <td id=\"T_a06b4_row11_col0\" class=\"data row11 col0\" >-0.76278</td>\n",
       "                        <td id=\"T_a06b4_row11_col1\" class=\"data row11 col1\" >0.3759</td>\n",
       "                        <td id=\"T_a06b4_row11_col2\" class=\"data row11 col2\" >0.077962</td>\n",
       "                        <td id=\"T_a06b4_row11_col3\" class=\"data row11 col3\" >-0.23568</td>\n",
       "                        <td id=\"T_a06b4_row11_col4\" class=\"data row11 col4\" >0.33315</td>\n",
       "                        <td id=\"T_a06b4_row11_col5\" class=\"data row11 col5\" >-0.27544</td>\n",
       "                        <td id=\"T_a06b4_row11_col6\" class=\"data row11 col6\" >-0.98433</td>\n",
       "                        <td id=\"T_a06b4_row11_col7\" class=\"data row11 col7\" >nan</td>\n",
       "                        <td id=\"T_a06b4_row11_col8\" class=\"data row11 col8\" >-0.99328</td>\n",
       "                        <td id=\"T_a06b4_row11_col9\" class=\"data row11 col9\" >0.99794</td>\n",
       "                        <td id=\"T_a06b4_row11_col10\" class=\"data row11 col10\" >0.99794</td>\n",
       "                        <td id=\"T_a06b4_row11_col11\" class=\"data row11 col11\" >1.0</td>\n",
       "            </tr>\n",
       "    </tbody></table>"
      ],
      "text/plain": [
       "<pandas.io.formats.style.Styler at 0x152f898d508>"
      ]
     },
     "execution_count": 24,
     "metadata": {},
     "output_type": "execute_result"
    }
   ],
   "source": [
    "df.corr().style.format(\"{:.5}\").background_gradient(cmap=plt.get_cmap('coolwarm'), axis=1)"
   ]
  },
  {
   "cell_type": "code",
   "execution_count": 25,
   "id": "boring-springer",
   "metadata": {},
   "outputs": [
    {
     "data": {
      "text/plain": [
       "umidade         -0.762777\n",
       "temperatura      0.375896\n",
       "pressao          0.077962\n",
       "vento_ang       -0.235681\n",
       "vent_veloc       0.333150\n",
       "chuva           -0.275440\n",
       "corrente_fuga   -0.984327\n",
       "A                     NaN\n",
       "B               -0.993281\n",
       "C                0.997940\n",
       "K                0.997940\n",
       "Uc               1.000000\n",
       "Name: Uc, dtype: float64"
      ]
     },
     "execution_count": 25,
     "metadata": {},
     "output_type": "execute_result"
    }
   ],
   "source": [
    "df.corr()['Uc']"
   ]
  },
  {
   "cell_type": "code",
   "execution_count": 51,
   "id": "following-chain",
   "metadata": {},
   "outputs": [],
   "source": [
    "def calcula_regressao(columns):\n",
    "    X_train, X_test, y_train, y_test = train_test_split(df[columns], df['Uc'], test_size=0.4, random_state=2)\n",
    "    lr = LinearRegression(normalize = False, fit_intercept=True)\n",
    "    \n",
    "    model_lr = lr.fit(X_train, y_train)\n",
    "    result_lr = model_lr.predict(X_test)\n",
    "    \n",
    "    mse_lr = mean_squared_error(y_test, result_lr)\n",
    "    \n",
    "    rmse_lr = (np.sqrt(mse_lr))\n",
    "    \n",
    "    score_lr = model_lr.score(X_test, y_test)\n",
    "    \n",
    "    print('Resultados do erro médio e score (acurácia do modelo) para o dataset de teste:\\n  MSE: {}'.format(mse_lr) \n",
    "          + '\\n RMSE: {}'.format(rmse_lr) \n",
    "          + '\\nScore: {:2.4f}'.format(score_lr * 100) + '%')\n",
    "    return score_lr;"
   ]
  },
  {
   "cell_type": "code",
   "execution_count": 37,
   "id": "weird-federation",
   "metadata": {},
   "outputs": [
    {
     "data": {
      "text/plain": [
       "Index(['umidade', 'temperatura', 'pressao', 'vento_ang', 'vent_veloc', 'chuva',\n",
       "       'corrente_fuga', 'A', 'B', 'C', 'K'],\n",
       "      dtype='object')"
      ]
     },
     "execution_count": 37,
     "metadata": {},
     "output_type": "execute_result"
    }
   ],
   "source": [
    "cols = df.columns.drop(['Uc'])\n",
    "cols"
   ]
  },
  {
   "cell_type": "code",
   "execution_count": 52,
   "id": "metric-necklace",
   "metadata": {},
   "outputs": [
    {
     "name": "stdout",
     "output_type": "stream",
     "text": [
      "Resultados do erro médio e score (acurácia do modelo) para o dataset de teste:\n",
      "  MSE: 7.012828972555315e-09\n",
      " RMSE: 8.374263533323581e-05\n",
      "Score: 99.9997%\n"
     ]
    }
   ],
   "source": [
    "score_cols = calcula_regressao(cols)"
   ]
  },
  {
   "cell_type": "code",
   "execution_count": 29,
   "id": "given-prompt",
   "metadata": {},
   "outputs": [
    {
     "data": {
      "text/plain": [
       "Index(['umidade', 'A', 'B', 'C', 'K'], dtype='object')"
      ]
     },
     "execution_count": 29,
     "metadata": {},
     "output_type": "execute_result"
    }
   ],
   "source": [
    "cols_maior_05 = df.columns.drop(['temperatura','pressao','vento_ang','vent_veloc','chuva','corrente_fuga','Uc'])\n",
    "cols_maior_05"
   ]
  },
  {
   "cell_type": "code",
   "execution_count": 30,
   "id": "incident-electron",
   "metadata": {},
   "outputs": [
    {
     "name": "stdout",
     "output_type": "stream",
     "text": [
      "Resultados do erro médio e score (acurácia do modelo) para o dataset de teste:\n",
      "  MSE: 2.3323501170124833e-07\n",
      " RMSE: 0.0004829441082581382\n",
      "Score: 99.9900%\n"
     ]
    }
   ],
   "source": [
    "score_cols_maior_05 = calcula_regressao(cols_maior_05)"
   ]
  },
  {
   "cell_type": "code",
   "execution_count": 31,
   "id": "returning-boring",
   "metadata": {},
   "outputs": [
    {
     "data": {
      "text/plain": [
       "Index(['umidade', 'temperatura', 'vent_veloc', 'A', 'B', 'C', 'K'], dtype='object')"
      ]
     },
     "execution_count": 31,
     "metadata": {},
     "output_type": "execute_result"
    }
   ],
   "source": [
    "cols_maior_03 = df.columns.drop(['pressao', 'vento_ang','chuva','corrente_fuga','Uc'])\n",
    "cols_maior_03"
   ]
  },
  {
   "cell_type": "code",
   "execution_count": 32,
   "id": "exposed-rates",
   "metadata": {},
   "outputs": [
    {
     "name": "stdout",
     "output_type": "stream",
     "text": [
      "Resultados do erro médio e score (acurácia do modelo) para o dataset de teste:\n",
      "  MSE: 2.3233453767159563e-07\n",
      " RMSE: 0.00048201093107065076\n",
      "Score: 99.9901%\n"
     ]
    }
   ],
   "source": [
    "score_cols_maior_03 = calcula_regressao(cols_maior_03)"
   ]
  },
  {
   "cell_type": "code",
   "execution_count": 33,
   "id": "solved-surveillance",
   "metadata": {},
   "outputs": [
    {
     "data": {
      "text/plain": [
       "Index(['umidade', 'temperatura', 'vento_ang', 'vent_veloc', 'chuva', 'A', 'B',\n",
       "       'C', 'K', 'Uc'],\n",
       "      dtype='object')"
      ]
     },
     "execution_count": 33,
     "metadata": {},
     "output_type": "execute_result"
    }
   ],
   "source": [
    "cols_maior_01 = df.columns.drop(['pressao','corrente_fuga'])\n",
    "cols_maior_01"
   ]
  },
  {
   "cell_type": "code",
   "execution_count": 34,
   "id": "lightweight-distribution",
   "metadata": {},
   "outputs": [
    {
     "name": "stdout",
     "output_type": "stream",
     "text": [
      "Resultados do erro médio e score (acurácia do modelo) para o dataset de teste:\n",
      "  MSE: 7.306305662040466e-33\n",
      " RMSE: 8.54769305838743e-17\n",
      "Score: 100.0000%\n"
     ]
    }
   ],
   "source": [
    "score_cols_maior_01 = calcula_regressao(cols_maior_01)"
   ]
  },
  {
   "cell_type": "code",
   "execution_count": 35,
   "id": "requested-mercury",
   "metadata": {},
   "outputs": [
    {
     "data": {
      "image/png": "[encoded data removed]",
      "text/plain": [
       "<Figure size 864x432 with 1 Axes>"
      ]
     },
     "metadata": {
      "needs_background": "light"
     },
     "output_type": "display_data"
    }
   ],
   "source": [
    "scores = [score_cols, score_cols_maior_01, score_cols_maior_03, score_cols_maior_05]\n",
    "labels = ['Todas', '> 0,10', '> 0,30', '> 0,50']\n",
    "\n",
    "fig, ax = plt.subplots(1, figsize=(12,6))\n",
    "fig.suptitle('Comparação entre os scores - Regressão Linear')\n",
    "\n",
    "ax.barh(labels, scores)\n",
    "plt.grid(b=True, which='major', color='#666666', linestyle='-')\n",
    "\n",
    "for index, score in enumerate(scores):\n",
    "    plt.text(score, index, str('{:2.2f}'.format(score * 100) + '%'))\n",
    "\n",
    "plt.show()"
   ]
  },
  {
   "cell_type": "code",
   "execution_count": null,
   "id": "apparent-convergence",
   "metadata": {},
   "outputs": [],
   "source": []
  }
 ],
 "metadata": {
  "kernelspec": {
   "display_name": "Python 3",
   "language": "python",
   "name": "python3"
  },
  "language_info": {
   "codemirror_mode": {
    "name": "ipython",
    "version": 3
   },
   "file_extension": ".py",
   "mimetype": "text/x-python",
   "name": "python",
   "nbconvert_exporter": "python",
   "pygments_lexer": "ipython3",
   "version": "3.7.5"
  }
 },
 "nbformat": 4,
 "nbformat_minor": 5
}
